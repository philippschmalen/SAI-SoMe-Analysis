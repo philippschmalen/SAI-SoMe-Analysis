{
 "cells": [
  {
   "cell_type": "markdown",
   "id": "perfect-burlington",
   "metadata": {},
   "source": [
    "# snscrape"
   ]
  },
  {
   "cell_type": "code",
   "execution_count": 51,
   "id": "received-softball",
   "metadata": {},
   "outputs": [],
   "source": [
    "import snscrape.modules.twitter as sntwitter\n",
    "import pandas as pd"
   ]
  },
  {
   "cell_type": "code",
   "execution_count": 31,
   "id": "brazilian-liability",
   "metadata": {},
   "outputs": [],
   "source": [
    "USERNAME = 'InitiativeSuAv'\n",
    "\n",
    "tweets = sntwitter.TwitterUserScraper(username=USERNAME)\n",
    "userinfo = sntwitter.TwitterUserScraper(USERNAME).entity"
   ]
  },
  {
   "cell_type": "code",
   "execution_count": 50,
   "id": "touched-muslim",
   "metadata": {},
   "outputs": [
    {
     "data": {
      "text/plain": [
       "'{\"username\": \"InitiativeSuAv\", \"displayname\": \"SAI Sustainable Aviation Initiative\", \"id\": \"1101096672044683264\", \"description\": \"\", \"rawDescription\": \"\", \"descriptionUrls\": [], \"verified\": false, \"created\": \"2019-02-28T12:27:58+00:00\", \"followersCount\": 15, \"friendsCount\": 44, \"statusesCount\": 40, \"favouritesCount\": 15, \"listedCount\": 0, \"mediaCount\": 9, \"location\": \"\", \"protected\": false, \"linkUrl\": null, \"linkTcourl\": null, \"profileImageUrl\": \"https://pbs.twimg.com/profile_images/1335528282830344192/pCwxdJf-_normal.jpg\", \"profileBannerUrl\": \"https://pbs.twimg.com/profile_banners/1101096672044683264/1551357131\", \"url\": \"https://twitter.com/InitiativeSuAv\"}'"
      ]
     },
     "execution_count": 50,
     "metadata": {},
     "output_type": "execute_result"
    }
   ],
   "source": [
    "\n",
    "userinfo.json()\n"
   ]
  },
  {
   "cell_type": "code",
   "execution_count": 45,
   "id": "exciting-reviewer",
   "metadata": {},
   "outputs": [
    {
     "data": {
      "text/plain": [
       "['__annotations__',\n",
       " '__class__',\n",
       " '__dataclass_fields__',\n",
       " '__dataclass_params__',\n",
       " '__delattr__',\n",
       " '__dict__',\n",
       " '__dir__',\n",
       " '__doc__',\n",
       " '__eq__',\n",
       " '__format__',\n",
       " '__ge__',\n",
       " '__getattribute__',\n",
       " '__gt__',\n",
       " '__hash__',\n",
       " '__init__',\n",
       " '__init_subclass__',\n",
       " '__le__',\n",
       " '__lt__',\n",
       " '__module__',\n",
       " '__ne__',\n",
       " '__new__',\n",
       " '__reduce__',\n",
       " '__reduce_ex__',\n",
       " '__repr__',\n",
       " '__setattr__',\n",
       " '__sizeof__',\n",
       " '__str__',\n",
       " '__subclasshook__',\n",
       " '__weakref__',\n",
       " 'created',\n",
       " 'description',\n",
       " 'descriptionUrls',\n",
       " 'displayname',\n",
       " 'favouritesCount',\n",
       " 'followersCount',\n",
       " 'friendsCount',\n",
       " 'id',\n",
       " 'json',\n",
       " 'linkTcourl',\n",
       " 'linkUrl',\n",
       " 'listedCount',\n",
       " 'location',\n",
       " 'mediaCount',\n",
       " 'profileBannerUrl',\n",
       " 'profileImageUrl',\n",
       " 'protected',\n",
       " 'rawDescription',\n",
       " 'statusesCount',\n",
       " 'url',\n",
       " 'username',\n",
       " 'verified']"
      ]
     },
     "execution_count": 45,
     "metadata": {},
     "output_type": "execute_result"
    }
   ],
   "source": [
    "dir(userinfo)"
   ]
  },
  {
   "cell_type": "markdown",
   "id": "meaning-plastic",
   "metadata": {},
   "source": [
    "# FCH\n",
    "\n",
    "https://github.com/oduwsdl/FollowerCountHistory"
   ]
  },
  {
   "cell_type": "code",
   "execution_count": 53,
   "id": "silent-attitude",
   "metadata": {},
   "outputs": [],
   "source": [
    "import fch"
   ]
  },
  {
   "cell_type": "code",
   "execution_count": 55,
   "id": "novel-income",
   "metadata": {},
   "outputs": [],
   "source": [
    "from fch.follower.followercount import FollowerCount"
   ]
  },
  {
   "cell_type": "code",
   "execution_count": 59,
   "id": "hundred-lingerie",
   "metadata": {},
   "outputs": [
    {
     "ename": "TypeError",
     "evalue": "__init__() missing 3 required positional arguments: 'conf_reader', 'constants', and 'dmanager'",
     "output_type": "error",
     "traceback": [
      "\u001b[1;31m---------------------------------------------------------------------------\u001b[0m",
      "\u001b[1;31mTypeError\u001b[0m                                 Traceback (most recent call last)",
      "\u001b[1;32m<ipython-input-59-2246488f91e8>\u001b[0m in \u001b[0;36m<module>\u001b[1;34m\u001b[0m\n\u001b[1;32m----> 1\u001b[1;33m \u001b[0mFollowerCount\u001b[0m\u001b[1;33m(\u001b[0m\u001b[0mUSERNAME\u001b[0m\u001b[1;33m)\u001b[0m\u001b[1;33m.\u001b[0m\u001b[0mget_follower_count\u001b[0m\u001b[1;33m(\u001b[0m\u001b[1;33m)\u001b[0m\u001b[1;33m\u001b[0m\u001b[1;33m\u001b[0m\u001b[0m\n\u001b[0m",
      "\u001b[1;31mTypeError\u001b[0m: __init__() missing 3 required positional arguments: 'conf_reader', 'constants', and 'dmanager'"
     ]
    }
   ],
   "source": [
    "FollowerCount(USERNAME).get_follower_count()"
   ]
  }
 ],
 "metadata": {
  "kernelspec": {
   "display_name": "Python 3",
   "language": "python",
   "name": "python3"
  },
  "language_info": {
   "codemirror_mode": {
    "name": "ipython",
    "version": 3
   },
   "file_extension": ".py",
   "mimetype": "text/x-python",
   "name": "python",
   "nbconvert_exporter": "python",
   "pygments_lexer": "ipython3",
   "version": "3.8.8"
  }
 },
 "nbformat": 4,
 "nbformat_minor": 5
}
